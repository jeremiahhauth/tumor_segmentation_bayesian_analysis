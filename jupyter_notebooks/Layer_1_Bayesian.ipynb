{
 "cells": [
  {
   "cell_type": "markdown",
   "metadata": {},
   "source": [
    "### Imports"
   ]
  },
  {
   "cell_type": "code",
   "execution_count": 1,
   "metadata": {
    "ExecuteTime": {
     "end_time": "2020-06-22T14:30:00.316532Z",
     "start_time": "2020-06-22T14:30:00.309819Z"
    },
    "pycharm": {
     "is_executing": false
    }
   },
   "outputs": [
    {
     "name": "stdout",
     "text": [
      "2.2.0\nListing all GPU resources:\n[]\n\n0.9.0\n"
     ],
     "output_type": "stream"
    }
   ],
   "source": [
    "import tensorflow as tf \n",
    "import tensorflow_io as tfio\n",
    "import tensorflow_probability as tfp\n",
    "\n",
    "print(tf.__version__)\n",
    "print('Listing all GPU resources:')\n",
    "print(tf.config.experimental.list_physical_devices('GPU'))\n",
    "print()\n",
    "import tensorflow.keras as keras\n",
    "print(tfp.__version__)\n",
    "import numpy as np\n",
    "import datetime\n",
    "import time\n",
    "import matplotlib.pyplot as plt\n",
    "import pickle\n",
    "import os"
   ]
  },
  {
   "cell_type": "markdown",
   "metadata": {},
   "source": [
    "## Parameters"
   ]
  },
  {
   "cell_type": "code",
   "execution_count": 2,
   "metadata": {
    "pycharm": {
     "is_executing": false
    }
   },
   "outputs": [],
   "source": [
    "BATCH_SIZE = 128\n",
    "FILTERS = 32\n",
    "EPOCHS = 100\n",
    "DATA_PATH = '../data/Task01_BrainTumour.h5'\n",
    "PICKLE_PATH = 'Layer_1_hist.pkl'\n",
    "\n",
    "DATA_SIZE = 60000\n",
    "\n",
    "PRIOR_MU = 0\n",
    "PRIOR_SIGMA = 10"
   ]
  },
  {
   "cell_type": "markdown",
   "metadata": {},
   "source": [
    "### Data"
   ]
  },
  {
   "cell_type": "markdown",
   "metadata": {},
   "source": [
    "### Functions"
   ]
  },
  {
   "cell_type": "code",
   "execution_count": null,
   "metadata": {
    "ExecuteTime": {
     "end_time": "2020-06-22T14:29:45.588092Z",
     "start_time": "2020-06-22T14:29:44.475764Z"
    },
    "pycharm": {
     "is_executing": true
    }
   },
   "outputs": [
    {
     "name": "stdout",
     "text": [
      "WARNING:tensorflow:There are non-GPU devices in `tf.distribute.Strategy`, not using nccl allreduce.\n",
      "INFO:tensorflow:Using MirroredStrategy with devices ('/job:localhost/replica:0/task:0/device:CPU:0',)\n"
     ],
     "output_type": "stream"
    }
   ],
   "source": [
    "mirrored_strategy = tf.distribute.MirroredStrategy()\n",
    "\n",
    "with mirrored_strategy.scope():\n",
    "    \n",
    "    class KLDivergence:\n",
    "        def __init__(self, q_dist, p_dist):\n",
    "            self.q_dist = q_dist         \n",
    "            self.p_dist = p_dist\n",
    "        def call(self):\n",
    "            return tfp.distributions.kl_divergence(self.q_dist, self.p_dist)\n",
    "\n",
    "    def mean_binary_crossentropy(y, y_pred):\n",
    "        return tf.reduce_mean(keras.losses.binary_crossentropy(y, y_pred))\n",
    "\n",
    "    def sum_binary_crossentropy(y, y_pred):\n",
    "        return DATA_SIZE * mean_binary_crossentropy(y, y_pred)\n",
    "\n",
    "    def likelihood_loss(y, y_pred):\n",
    "        return sum_binary_crossentropy(y, y_pred)\n",
    "    \n",
    "    posterior_fn = tfp.layers.default_mean_field_normal_fn(\n",
    "                  loc_initializer=tf.random_normal_initializer(\n",
    "                      mean=PRIOR_MU, stddev=0.05),\n",
    "                  untransformed_scale_initializer=tf.random_normal_initializer(\n",
    "                      mean=np.log(np.exp(PRIOR_SIGMA) - 1), stddev=0.05))\n",
    "\n",
    "    prior_fn = tfp.layers.default_mean_field_normal_fn(\n",
    "                      loc_initializer=tf.random_normal_initializer(\n",
    "                          mean=PRIOR_MU, stddev=0.0),\n",
    "                      untransformed_scale_initializer=tf.random_normal_initializer(\n",
    "                          mean=np.log(np.exp(PRIOR_SIGMA) - 1), stddev=0))\n",
    "\n",
    "    flipout_params = dict(kernel_size=(3, 3), activation=\"relu\", padding=\"same\", \n",
    "                  kernel_prior_fn=prior_fn,\n",
    "                  bias_prior_fn=prior_fn,\n",
    "                  kernel_posterior_fn=posterior_fn,\n",
    "                  bias_posterior_fn=posterior_fn,\n",
    "                  kernel_divergence_fn=None,\n",
    "                  bias_divergence_fn=None)\n",
    "\n",
    "    params_final = dict(kernel_size=(1, 1), activation=\"sigmoid\", padding=\"same\", \n",
    "                      data_format=\"channels_last\",\n",
    "                  kernel_initializer=\"he_uniform\")\n",
    "\n",
    "    params = dict(kernel_size=(3, 3), activation=\"relu\",\n",
    "                  padding=\"same\", data_format=\"channels_last\",\n",
    "                  kernel_initializer=\"he_uniform\")\n",
    "    \n",
    "    Xy_train = tf.data.Dataset.zip((tfio.IODataset.from_hdf5(DATA_PATH, '/imgs_train', dtype=tf.float32), \n",
    "                                tfio.IODataset.from_hdf5(DATA_PATH, '/msks_train', dtype=tf.float32))\n",
    "                              ).batch(BATCH_SIZE).prefetch(2)\n",
    "    Xy_test = tf.data.Dataset.zip((tfio.IODataset.from_hdf5(DATA_PATH, '/imgs_testing', dtype=tf.float32), \n",
    "                               tfio.IODataset.from_hdf5(DATA_PATH, '/msks_testing', dtype=tf.float32))\n",
    "                             ).batch(BATCH_SIZE).prefetch(2)\n",
    "\n",
    "    input_layer = keras.layers.Input(shape=(144, 144, 4), name=\"input_layer\")\n",
    "\n",
    "    encoder_1_a = tfp.layers.Convolution2DFlipout(FILTERS, name='encoder_1_a', **flipout_params)(input_layer)\n",
    "    encoder_1_b = keras.layers.Conv2D(FILTERS, name='encoder_1_b', **params)(encoder_1_a)\n",
    "    downsample_1 = keras.layers.MaxPool2D(name='downsample_1')(encoder_1_b)\n",
    "\n",
    "    encoder_2_a = keras.layers.Conv2D(FILTERS*2, name='encoder_2_a', **params)(downsample_1)\n",
    "    encoder_2_b = keras.layers.Conv2D(FILTERS*2, name='encoder_2_b', **params)(encoder_2_a)\n",
    "    downsample_2 = keras.layers.MaxPool2D(name='downsample_2')(encoder_2_b)\n",
    "\n",
    "    encoder_3_a = keras.layers.Conv2D(FILTERS*4, name='encoder_3_a', **params)(downsample_2)\n",
    "    encoder_3_b = keras.layers.Conv2D(FILTERS*4, name='encoder_3_b', **params)(encoder_3_a)\n",
    "    downsample_3 = keras.layers.MaxPool2D(name='downsample_3')(encoder_3_b)\n",
    "\n",
    "    encoder_4_a = keras.layers.Conv2D(FILTERS*8, name='encoder_4_a', **params)(downsample_3)\n",
    "    encoder_4_b = keras.layers.Conv2D(FILTERS*8, name='encoder_4_b', **params)(encoder_4_a)\n",
    "    downsample_4 = keras.layers.MaxPool2D(name='downsample_4')(encoder_4_b)\n",
    "\n",
    "\n",
    "    encoder_5_a = keras.layers.Conv2D(FILTERS*16, name='encoder_5_a', **params)(downsample_4)\n",
    "    encoder_5_b = keras.layers.Conv2D(FILTERS*16, name='encoder_5_b', **params)(encoder_5_a)\n",
    "\n",
    "\n",
    "    upsample_4 = keras.layers.UpSampling2D(name='upsample_4', size=(2, 2), interpolation=\"bilinear\")(encoder_5_b)\n",
    "    concat_4 = keras.layers.concatenate([upsample_4, encoder_4_b], name='concat_4')\n",
    "    decoder_4_a = keras.layers.Conv2D(FILTERS*8, name='decoder_4_a', **params)(concat_4)\n",
    "    decoder_4_b = keras.layers.Conv2D(FILTERS*8, name='decoder_4_b', **params)(decoder_4_a)\n",
    "\n",
    "\n",
    "    upsample_3 = keras.layers.UpSampling2D(name='upsample_3', size=(2, 2), interpolation=\"bilinear\")(decoder_4_b)\n",
    "    concat_3 = keras.layers.concatenate([upsample_3, encoder_3_b], name='concat_3')\n",
    "    decoder_3_a = keras.layers.Conv2D(FILTERS*4, name='decoder_3_a', **params)(concat_3)\n",
    "    decoder_3_b = keras.layers.Conv2D(FILTERS*4, name='decoder_3_b', **params)(decoder_3_a)\n",
    "\n",
    "\n",
    "    upsample_2 = keras.layers.UpSampling2D(name='upsample_2', size=(2, 2), interpolation=\"bilinear\")(decoder_3_b)\n",
    "    concat_2 = keras.layers.concatenate([upsample_2, encoder_2_b], name='concat_2')\n",
    "    decoder_2_a = keras.layers.Conv2D(FILTERS*2, name='decoder_2_a', **params)(concat_2)\n",
    "    decoder_2_b = keras.layers.Conv2D(FILTERS*2, name='decoder_2_b', **params)(decoder_2_a)\n",
    "\n",
    "\n",
    "    upsample_1 = keras.layers.UpSampling2D(name='upsample_1', size=(2, 2), interpolation=\"bilinear\")(decoder_2_b)\n",
    "    concat_1 = keras.layers.concatenate([upsample_1, encoder_1_b], name='concat_1')\n",
    "    decoder_1_a = keras.layers.Conv2D(FILTERS, name='decoder_1_a', **params)(concat_1)\n",
    "    decoder_1_b = keras.layers.Conv2D(FILTERS, name='decoder_1_b', **params)(decoder_1_a)\n",
    "\n",
    "    output_layer = keras.layers.Conv2D(name=\"output_layer\",\n",
    "                                    filters=1, **params_final)(decoder_1_b)\n",
    "\n",
    "    print()\n",
    "    print('Input size:', input_layer.shape)\n",
    "    print('Output size:', output_layer.shape)\n",
    "\n",
    "    model = keras.models.Model(inputs=input_layer, outputs=output_layer)\n",
    "    for layer in model.layers:\n",
    "        if type(layer) == tfp.python.layers.conv_variational.Conv2DFlipout:\n",
    "            layer.add_loss(KLDivergence(layer.kernel_posterior, layer.kernel_prior).call)\n",
    "            layer.add_loss(KLDivergence(layer.bias_posterior, layer.bias_prior).call)\n",
    "    \n",
    "    model.compile(optimizer=keras.optimizers.Nadam(learning_rate=1e-4), \n",
    "                  loss=likelihood_loss, \n",
    "                  metrics=[likelihood_loss, mean_binary_crossentropy])"
   ]
  },
  {
   "cell_type": "code",
   "execution_count": null,
   "metadata": {
    "pycharm": {
     "is_executing": true
    }
   },
   "outputs": [],
   "source": [
    "bias_prior = model.layers[1].bias_prior\n",
    "bias_posterior = model.layers[1].bias_posterior\n",
    "kernel_prior = model.layers[1].kernel_prior\n",
    "kernel_posterior = model.layers[1].kernel_posterior"
   ]
  },
  {
   "cell_type": "code",
   "execution_count": null,
   "metadata": {
    "scrolled": true,
    "pycharm": {
     "is_executing": true
    }
   },
   "outputs": [],
   "source": [
    "print('KL Divergence at Initialization:', '%0.3f' % (tfp.distributions.kl_divergence(bias_posterior, bias_prior) \\\n",
    "      + tfp.distributions.kl_divergence(kernel_posterior, kernel_prior)).numpy())"
   ]
  },
  {
   "cell_type": "code",
   "execution_count": null,
   "metadata": {
    "pycharm": {
     "is_executing": true
    }
   },
   "outputs": [],
   "source": [
    "print(model.losses)"
   ]
  },
  {
   "cell_type": "markdown",
   "metadata": {},
   "source": [
    "### Train"
   ]
  },
  {
   "cell_type": "code",
   "execution_count": null,
   "metadata": {
    "ExecuteTime": {
     "end_time": "2020-06-22T14:30:26.957294Z",
     "start_time": "2020-06-22T14:30:04.942312Z"
    },
    "scrolled": false,
    "pycharm": {
     "is_executing": true
    }
   },
   "outputs": [],
   "source": [
    "print(\"-\" * 30)\n",
    "print(\"Fitting model with training data ...\")\n",
    "print(\"-\" * 30)\n",
    "\n",
    "print(\"Step 3, training the model started at {}\".format(datetime.datetime.now()))\n",
    "start_time = time.time()\n",
    "\n",
    "history = model.fit(Xy_train,\n",
    "          validation_data=Xy_test,\n",
    "          epochs=EPOCHS, verbose=1)\n",
    "\n",
    "print(\"Total time elapsed for training = {} seconds\".format(time.time() - start_time))\n",
    "print(\"Training finished at {}\".format(datetime.datetime.now()))"
   ]
  },
  {
   "cell_type": "markdown",
   "metadata": {},
   "source": [
    "### Save model"
   ]
  },
  {
   "cell_type": "code",
   "execution_count": null,
   "metadata": {
    "pycharm": {
     "is_executing": true
    }
   },
   "outputs": [],
   "source": [
    "# Save the model\n",
    "# serialize weights to HDF5 and tensorflow_model format\n",
    "model.save_weights(\"layer_1_bayesian.h5\")\n",
    "print(\"Saved model to disk (.h5)\")\n",
    "model.save_weights('layer_1_bayesian')\n",
    "print(\"Saved model to disk (.tf)\")\n",
    "\n",
    "#Save history\n",
    "history_dict = history.history\n",
    "with open(PICKLE_PATH, 'wb') as file_pi:\n",
    "        pickle.dump(history_dict, file_pi)\n",
    "print('Pickled training history')"
   ]
  },
  {
   "cell_type": "code",
   "execution_count": null,
   "metadata": {
    "pycharm": {
     "is_executing": true
    }
   },
   "outputs": [],
   "source": []
  }
 ],
 "metadata": {
  "kernelspec": {
   "name": "conda-env-test-env-py",
   "language": "python",
   "display_name": "Python [conda env:test-env] *"
  },
  "language_info": {
   "codemirror_mode": {
    "name": "ipython",
    "version": 3
   },
   "file_extension": ".py",
   "mimetype": "text/x-python",
   "name": "python",
   "nbconvert_exporter": "python",
   "pygments_lexer": "ipython3",
   "version": "3.7.7"
  }
 },
 "nbformat": 4,
 "nbformat_minor": 2
}