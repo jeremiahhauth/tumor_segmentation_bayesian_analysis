{
 "cells": [
  {
   "cell_type": "code",
   "execution_count": 43,
   "metadata": {
    "scrolled": true
   },
   "outputs": [
    {
     "name": "stdout",
     "output_type": "stream",
     "text": [
      "2.2.0\n",
      "Listing all GPU resources:\n",
      "[]\n",
      "\n",
      "0.9.0\n"
     ]
    }
   ],
   "source": [
    "LAYER_NAME = 'layer_1a'\n",
    "\n",
    "import tensorflow as tf \n",
    "import tensorflow_io as tfio\n",
    "import tensorflow_probability as tfp\n",
    "\n",
    "print(tf.__version__)\n",
    "print('Listing all GPU resources:')\n",
    "print(tf.config.experimental.list_physical_devices('GPU'))\n",
    "print()\n",
    "import tensorflow.keras as keras\n",
    "print(tfp.__version__)\n",
    "import numpy as np\n",
    "import datetime\n",
    "import time\n",
    "import matplotlib.pyplot as plt\n",
    "import pickle\n",
    "import os\n",
    "from tqdm import trange\n",
    "import sys\n",
    "import git\n",
    "import importlib\n",
    "\n",
    "from file_path_dict import file_path_dict"
   ]
  },
  {
   "cell_type": "code",
   "execution_count": 44,
   "metadata": {},
   "outputs": [],
   "source": [
    "LAYER_NAME = 'encoder_1a'\n",
    "\n",
    "FILTERS = 32\n",
    "DATA_SIZE = 60000\n",
    "PRIOR_MU = 0\n",
    "PRIOR_SIGMA = 10\n",
    "\n",
    "BATCH_SIZE = 128\n",
    "EPOCHS = 200\n",
    "VERBOSE = 2\n",
    "\n",
    "ROOT_PATH = git.Repo(\"\", search_parent_directories=True).git.rev_parse(\"--show-toplevel\")\n",
    "DATA_PATH = ROOT_PATH + \"/data/\"\n",
    "SAVE_PATH = ROOT_PATH + \"/\" + LAYER_NAME + \"/\" + LAYER_NAME + \"_bayesian_model.h5\"\n",
    "PICKLE_PATH = ROOT_PATH + \"/\" + LAYER_NAME + \"/\" + LAYER_NAME + '_hist.pkl'\n",
    "MODEL_PATH = ROOT_PATH + \"/\" + LAYER_NAME + \"/\" + LAYER_NAME + \"_model\""
   ]
  },
  {
   "cell_type": "code",
   "execution_count": 45,
   "metadata": {
    "scrolled": true
   },
   "outputs": [
    {
     "name": "stdout",
     "output_type": "stream",
     "text": [
      "------------------------------\n",
      "Constructing model...\n",
      "------------------------------\n",
      "\n",
      "Input size: (None, 144, 144, 4)\n",
      "Output size: (None, 144, 144, 1)\n",
      "Model: \"model_encoder_1a\"\n",
      "__________________________________________________________________________________________________\n",
      "Layer (type)                    Output Shape         Param #     Connected to                     \n",
      "==================================================================================================\n",
      "input_layer (InputLayer)        [(None, 144, 144, 4) 0                                            \n",
      "__________________________________________________________________________________________________\n",
      "encoder_1_a (Conv2DFlipout)     (None, 144, 144, 32) 4736        input_layer[0][0]                \n",
      "__________________________________________________________________________________________________\n",
      "encoder_1_b (Conv2D)            (None, 144, 144, 32) 9248        encoder_1_a[0][0]                \n",
      "__________________________________________________________________________________________________\n",
      "downsample_1 (MaxPooling2D)     (None, 72, 72, 32)   0           encoder_1_b[0][0]                \n",
      "__________________________________________________________________________________________________\n",
      "encoder_2_a (Conv2D)            (None, 72, 72, 64)   18496       downsample_1[0][0]               \n",
      "__________________________________________________________________________________________________\n",
      "encoder_2_b (Conv2D)            (None, 72, 72, 64)   36928       encoder_2_a[0][0]                \n",
      "__________________________________________________________________________________________________\n",
      "downsample_2 (MaxPooling2D)     (None, 36, 36, 64)   0           encoder_2_b[0][0]                \n",
      "__________________________________________________________________________________________________\n",
      "encoder_3_a (Conv2D)            (None, 36, 36, 128)  73856       downsample_2[0][0]               \n",
      "__________________________________________________________________________________________________\n",
      "encoder_3_b (Conv2D)            (None, 36, 36, 128)  147584      encoder_3_a[0][0]                \n",
      "__________________________________________________________________________________________________\n",
      "downsample_3 (MaxPooling2D)     (None, 18, 18, 128)  0           encoder_3_b[0][0]                \n",
      "__________________________________________________________________________________________________\n",
      "encoder_4_a (Conv2D)            (None, 18, 18, 256)  295168      downsample_3[0][0]               \n",
      "__________________________________________________________________________________________________\n",
      "encoder_4_b (Conv2D)            (None, 18, 18, 256)  590080      encoder_4_a[0][0]                \n",
      "__________________________________________________________________________________________________\n",
      "downsample_4 (MaxPooling2D)     (None, 9, 9, 256)    0           encoder_4_b[0][0]                \n",
      "__________________________________________________________________________________________________\n",
      "encoder_5_a (Conv2D)            (None, 9, 9, 512)    1180160     downsample_4[0][0]               \n",
      "__________________________________________________________________________________________________\n",
      "encoder_5_b (Conv2D)            (None, 9, 9, 512)    2359808     encoder_5_a[0][0]                \n",
      "__________________________________________________________________________________________________\n",
      "upsample_4 (UpSampling2D)       (None, 18, 18, 512)  0           encoder_5_b[0][0]                \n",
      "__________________________________________________________________________________________________\n",
      "concat_4 (Concatenate)          (None, 18, 18, 768)  0           upsample_4[0][0]                 \n",
      "                                                                 encoder_4_b[0][0]                \n",
      "__________________________________________________________________________________________________\n",
      "decoder_4_a (Conv2D)            (None, 18, 18, 256)  1769728     concat_4[0][0]                   \n",
      "__________________________________________________________________________________________________\n",
      "decoder_4_b (Conv2D)            (None, 18, 18, 256)  590080      decoder_4_a[0][0]                \n",
      "__________________________________________________________________________________________________\n",
      "upsample_3 (UpSampling2D)       (None, 36, 36, 256)  0           decoder_4_b[0][0]                \n",
      "__________________________________________________________________________________________________\n",
      "concat_3 (Concatenate)          (None, 36, 36, 384)  0           upsample_3[0][0]                 \n",
      "                                                                 encoder_3_b[0][0]                \n",
      "__________________________________________________________________________________________________\n",
      "decoder_3_a (Conv2D)            (None, 36, 36, 128)  442496      concat_3[0][0]                   \n",
      "__________________________________________________________________________________________________\n",
      "decoder_3_b (Conv2D)            (None, 36, 36, 128)  147584      decoder_3_a[0][0]                \n",
      "__________________________________________________________________________________________________\n",
      "upsample_2 (UpSampling2D)       (None, 72, 72, 128)  0           decoder_3_b[0][0]                \n",
      "__________________________________________________________________________________________________\n",
      "concat_2 (Concatenate)          (None, 72, 72, 192)  0           upsample_2[0][0]                 \n",
      "                                                                 encoder_2_b[0][0]                \n",
      "__________________________________________________________________________________________________\n",
      "decoder_2_a (Conv2D)            (None, 72, 72, 64)   110656      concat_2[0][0]                   \n",
      "__________________________________________________________________________________________________\n",
      "decoder_2_b (Conv2D)            (None, 72, 72, 64)   36928       decoder_2_a[0][0]                \n",
      "__________________________________________________________________________________________________\n",
      "upsample_1 (UpSampling2D)       (None, 144, 144, 64) 0           decoder_2_b[0][0]                \n",
      "__________________________________________________________________________________________________\n",
      "concat_1 (Concatenate)          (None, 144, 144, 96) 0           upsample_1[0][0]                 \n",
      "                                                                 encoder_1_b[0][0]                \n",
      "__________________________________________________________________________________________________\n",
      "decoder_1_a (Conv2D)            (None, 144, 144, 32) 27680       concat_1[0][0]                   \n",
      "__________________________________________________________________________________________________\n",
      "decoder_1_b (Conv2D)            (None, 144, 144, 32) 9248        decoder_1_a[0][0]                \n",
      "__________________________________________________________________________________________________\n",
      "output_layer (Conv2D)           (None, 144, 144, 1)  33          decoder_1_b[0][0]                \n",
      "==================================================================================================\n",
      "Total params: 7,850,497\n",
      "Trainable params: 7,850,497\n",
      "Non-trainable params: 0\n",
      "__________________________________________________________________________________________________\n",
      "None\n"
     ]
    }
   ],
   "source": [
    "print(\"-\" * 30)\n",
    "print(\"Constructing model...\")\n",
    "print(\"-\" * 30)\n",
    "spec = importlib.util.spec_from_file_location(MODEL_PATH, MODEL_PATH + \".py\")\n",
    "ModelLoader = importlib.util.module_from_spec(spec)\n",
    "spec.loader.exec_module(ModelLoader)\n",
    "model = ModelLoader.make_model()\n",
    "print(model.summary())"
   ]
  },
  {
   "cell_type": "code",
   "execution_count": 41,
   "metadata": {},
   "outputs": [
    {
     "name": "stdout",
     "output_type": "stream",
     "text": [
      "Model weights loaded successfully\n",
      "\n"
     ]
    }
   ],
   "source": [
    "model.load_weights(SAVE_PATH)\n",
    "print(\"Model weights loaded successfully\\n\")"
   ]
  },
  {
   "cell_type": "code",
   "execution_count": 42,
   "metadata": {},
   "outputs": [
    {
     "name": "stdout",
     "output_type": "stream",
     "text": [
      "First 200 test samples loaded\n",
      "\n"
     ]
    }
   ],
   "source": [
    "n_test = 200\n",
    "msks_test = np.load('../data/msks_test.npy')[:n_test]\n",
    "imgs_test = np.load('../data/imgs_test.npy')[:n_test]\n",
    "\n",
    "print(\"First \" + str(n_test) + \" test samples loaded\\n\")"
   ]
  },
  {
   "cell_type": "code",
   "execution_count": null,
   "metadata": {},
   "outputs": [],
   "source": [
    "Xy_test = tf.data.Dataset.zip((tf.data.Dataset.from_tensor_slices(imgs_test),\n",
    "                                tf.data.Dataset.from_tensor_slices(msks_test))\n",
    "                             ).cache().batch(BATCH_SIZE).prefetch(8)"
   ]
  },
  {
   "cell_type": "code",
   "execution_count": null,
   "metadata": {},
   "outputs": [],
   "source": [
    "prediction_size = list(msks_test.shape)\n",
    "prediction_size.insert(0, N_PREDICTIONS)\n",
    "prediction_test = np.zeros(prediction_size)"
   ]
  },
  {
   "cell_type": "code",
   "execution_count": null,
   "metadata": {},
   "outputs": [],
   "source": [
    "print(\"Getting Monte Carlo samples of test predictions...\")\n",
    "for i in trange(N_PREDICTIONS):\n",
    "    prediction_test[i] = model.predict(Xy_test)"
   ]
  },
  {
   "cell_type": "code",
   "execution_count": null,
   "metadata": {
    "scrolled": false
   },
   "outputs": [],
   "source": [
    "for i in trange(100, 101):\n",
    "    plt.figure(dpi=200)\n",
    "    plt.subplot(221)\n",
    "    plt.title('Test Data 1')\n",
    "    plt.imshow(imgs_test[i, :, :, 0])\n",
    "\n",
    "    plt.subplot(222)\n",
    "    plt.title('Test Data 2')\n",
    "    plt.imshow(imgs_test[i, :, :, 1])\n",
    "\n",
    "    plt.subplot(223)\n",
    "    plt.title('Test Data 3')\n",
    "    plt.imshow(imgs_test[i, :, :, 2])\n",
    "\n",
    "    plt.subplot(224)\n",
    "    plt.title('Test Data 4')\n",
    "    plt.imshow(imgs_test[i, :, :, 3])\n",
    "    plt.tight_layout()\n",
    "    plt.savefig('../images/' + LAYER_NAME + '/input_images_'+str(i).zfill(4)+'.png')\n",
    "    plt.close()\n",
    "\n",
    "\n",
    "    plt.figure(dpi=200)\n",
    "\n",
    "    plt.subplot(221)\n",
    "    plt.title('\\nPredicted Label Mean')\n",
    "    plt.imshow(prediction_test.mean(0)[i, :, :, 0])\n",
    "    plt.clim(0, 1)\n",
    "\n",
    "    plt.subplot(222)\n",
    "    plt.title('\\nPredicted Label Stddev')\n",
    "    plt.imshow(prediction_test.std(0)[i, :, :, 0])\n",
    "    plt.clim(0, 0.2)\n",
    "\n",
    "    plt.subplot(223)\n",
    "    plt.title('True Label')\n",
    "    plt.imshow(msks_test[i, :, :, 0])\n",
    "    plt.clim(0, 1)\n",
    "    plt.suptitle('Test Image: ' + str(i) + '\\n')\n",
    "\n",
    "    plt.tight_layout()\n",
    "\n",
    "    plt.savefig('../images/' + LAYER_NAME + '/prediction_images_'+str(i).zfill(4)+'.png')\n",
    "\n",
    "\n",
    "    plt.figure(dpi=200)\n",
    "\n",
    "    plt.subplot(221)\n",
    "    plt.title('\\nPredicted Label 50%')\n",
    "    plt.imshow(prediction_test.mean(0)[i, :, :, 0])\n",
    "    plt.clim(0, 1)\n",
    "\n",
    "    plt.subplot(222)\n",
    "    plt.title('\\nPredicted Label 12%')\n",
    "    plt.imshow(np.clip(prediction_test.mean(0)[i, :, :, 0] - 2*prediction_test.std(0)[i, :, :, 0], 0, 1))\n",
    "    plt.clim(0, 1)\n",
    "\n",
    "    plt.subplot(223)\n",
    "    plt.title('Predicted Label 98%')\n",
    "    plt.imshow(np.clip(prediction_test.mean(0)[i, :, :, 0] + 2*prediction_test.std(0)[i, :, :, 0], 0, 1))\n",
    "    plt.clim(0, 1)\n",
    "\n",
    "    plt.subplot(224)\n",
    "    plt.title('True Label')\n",
    "    plt.imshow(msks_test[i, :, :, 0])\n",
    "    plt.clim(0, 1)\n",
    "\n",
    "    plt.suptitle('Test Image: ' + str(i) + '\\n')\n",
    "\n",
    "    plt.tight_layout()\n",
    "    plt.savefig('../images/' + LAYER_NAME + '/prediction_percentile_images_'+str(i).zfill(4)+'.png')"
   ]
  },
  {
   "cell_type": "code",
   "execution_count": 10,
   "metadata": {},
   "outputs": [],
   "source": [
    "history = pickle.load(open(PICKLE_PATH, 'rb'))"
   ]
  },
  {
   "cell_type": "code",
   "execution_count": null,
   "metadata": {},
   "outputs": [],
   "source": [
    "plt.figure(dpi=400)\n",
    "plt.semilogy(history['loss'], label='training loss (ELBO)')\n",
    "plt.semilogy(history['val_loss'], label='testing loss')\n",
    "plt.legend()"
   ]
  },
  {
   "cell_type": "code",
   "execution_count": null,
   "metadata": {},
   "outputs": [],
   "source": [
    "for layer in model.layers:\n",
    "    print(layer)\n",
    "    weights = layer.get_weights()\n",
    "    for w in weights:\n",
    "        print(w.shape)"
   ]
  },
  {
   "cell_type": "code",
   "execution_count": null,
   "metadata": {},
   "outputs": [],
   "source": []
  }
 ],
 "metadata": {
  "kernelspec": {
   "display_name": "Python [conda env:test-env] *",
   "language": "python",
   "name": "conda-env-test-env-py"
  },
  "language_info": {
   "codemirror_mode": {
    "name": "ipython",
    "version": 3
   },
   "file_extension": ".py",
   "mimetype": "text/x-python",
   "name": "python",
   "nbconvert_exporter": "python",
   "pygments_lexer": "ipython3",
   "version": "3.7.7"
  }
 },
 "nbformat": 4,
 "nbformat_minor": 4
}
