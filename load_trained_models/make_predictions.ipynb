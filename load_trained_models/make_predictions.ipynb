{
 "cells": [
  {
   "cell_type": "code",
   "execution_count": 1,
   "metadata": {
    "scrolled": true
   },
   "outputs": [
    {
     "name": "stdout",
     "output_type": "stream",
     "text": [
      "2.2.0\n",
      "Listing all GPU resources:\n",
      "[]\n",
      "\n",
      "0.9.0\n"
     ]
    }
   ],
   "source": [
    "import tensorflow as tf \n",
    "import tensorflow_io as tfio\n",
    "import tensorflow_probability as tfp\n",
    "\n",
    "print(tf.__version__)\n",
    "print('Listing all GPU resources:')\n",
    "print(tf.config.experimental.list_physical_devices('GPU'))\n",
    "print()\n",
    "import tensorflow.keras as keras\n",
    "print(tfp.__version__)\n",
    "import numpy as np\n",
    "import datetime\n",
    "import time\n",
    "import matplotlib.pyplot as plt\n",
    "import matplotlib as mpl\n",
    "import pickle\n",
    "import os\n",
    "from tqdm import trange\n",
    "import sys\n",
    "import git\n",
    "import importlib\n",
    "\n",
    "mpl.rcParams['image.cmap'] = 'coolwarm'"
   ]
  },
  {
   "cell_type": "code",
   "execution_count": 2,
   "metadata": {},
   "outputs": [],
   "source": [
    "LAYER_NAME = 'encoder_5a'\n",
    "\n",
    "FILTERS = 32\n",
    "DATA_SIZE = 60000\n",
    "PRIOR_MU = 0\n",
    "PRIOR_SIGMA = 10\n",
    "\n",
    "BATCH_SIZE = 128\n",
    "EPOCHS = 200\n",
    "VERBOSE = 2\n",
    "\n",
    "N_PREDICTIONS = 100\n",
    "\n",
    "ROOT_PATH = git.Repo(\"\", search_parent_directories=True).git.rev_parse(\"--show-toplevel\")\n",
    "DATA_PATH = ROOT_PATH + \"/data/\"\n",
    "SMALL_DATA_PATH = ROOT_PATH + \"/load_trained_models\" + \"/data_small/\"\n",
    "LAYER_PATH = ROOT_PATH + \"/layers/\" + LAYER_NAME + \"/\"\n",
    "SAVE_PATH = LAYER_PATH + LAYER_NAME + \"_bayesian_model.h5\"\n",
    "PICKLE_PATH = LAYER_PATH + LAYER_NAME + '_hist.pkl'\n",
    "MODEL_PATH = LAYER_PATH + LAYER_NAME + \"_model\"\n",
    "IMAGE_PATH = ROOT_PATH + \"/images/\" + LAYER_NAME + \"/\""
   ]
  },
  {
   "cell_type": "code",
   "execution_count": 3,
   "metadata": {
    "scrolled": true
   },
   "outputs": [
    {
     "name": "stdout",
     "output_type": "stream",
     "text": [
      "------------------------------\n",
      "Constructing model...\n",
      "------------------------------\n",
      "WARNING:tensorflow:From /Users/hauthj/miniconda3/envs/test-env/lib/python3.7/site-packages/tensorflow_probability/python/layers/util.py:106: Layer.add_variable (from tensorflow.python.keras.engine.base_layer) is deprecated and will be removed in a future version.\n",
      "Instructions for updating:\n",
      "Please use `layer.add_weight` method instead.\n",
      "\n",
      "Input size: (None, 144, 144, 4)\n",
      "Output size: (None, 144, 144, 1)\n",
      "Model: \"model_encoder_5a\"\n",
      "__________________________________________________________________________________________________\n",
      "Layer (type)                    Output Shape         Param #     Connected to                     \n",
      "==================================================================================================\n",
      "input_layer (InputLayer)        [(None, 144, 144, 4) 0                                            \n",
      "__________________________________________________________________________________________________\n",
      "encoder_1_a (Conv2D)            (None, 144, 144, 32) 1184        input_layer[0][0]                \n",
      "__________________________________________________________________________________________________\n",
      "encoder_1_b (Conv2D)            (None, 144, 144, 32) 9248        encoder_1_a[0][0]                \n",
      "__________________________________________________________________________________________________\n",
      "downsample_1 (MaxPooling2D)     (None, 72, 72, 32)   0           encoder_1_b[0][0]                \n",
      "__________________________________________________________________________________________________\n",
      "encoder_2_a (Conv2D)            (None, 72, 72, 64)   18496       downsample_1[0][0]               \n",
      "__________________________________________________________________________________________________\n",
      "encoder_2_b (Conv2D)            (None, 72, 72, 64)   36928       encoder_2_a[0][0]                \n",
      "__________________________________________________________________________________________________\n",
      "downsample_2 (MaxPooling2D)     (None, 36, 36, 64)   0           encoder_2_b[0][0]                \n",
      "__________________________________________________________________________________________________\n",
      "encoder_3_a (Conv2D)            (None, 36, 36, 128)  73856       downsample_2[0][0]               \n",
      "__________________________________________________________________________________________________\n",
      "encoder_3_b (Conv2D)            (None, 36, 36, 128)  147584      encoder_3_a[0][0]                \n",
      "__________________________________________________________________________________________________\n",
      "downsample_3 (MaxPooling2D)     (None, 18, 18, 128)  0           encoder_3_b[0][0]                \n",
      "__________________________________________________________________________________________________\n",
      "encoder_4_a (Conv2D)            (None, 18, 18, 256)  295168      downsample_3[0][0]               \n",
      "__________________________________________________________________________________________________\n",
      "encoder_4_b (Conv2D)            (None, 18, 18, 256)  590080      encoder_4_a[0][0]                \n",
      "__________________________________________________________________________________________________\n",
      "downsample_4 (MaxPooling2D)     (None, 9, 9, 256)    0           encoder_4_b[0][0]                \n",
      "__________________________________________________________________________________________________\n",
      "encoder_5_a (Conv2DFlipout)     (None, 9, 9, 512)    4720640     downsample_4[0][0]               \n",
      "__________________________________________________________________________________________________\n",
      "encoder_5_b (Conv2D)            (None, 9, 9, 512)    2359808     encoder_5_a[0][0]                \n",
      "__________________________________________________________________________________________________\n",
      "upsample_4 (UpSampling2D)       (None, 18, 18, 512)  0           encoder_5_b[0][0]                \n",
      "__________________________________________________________________________________________________\n",
      "concat_4 (Concatenate)          (None, 18, 18, 768)  0           upsample_4[0][0]                 \n",
      "                                                                 encoder_4_b[0][0]                \n",
      "__________________________________________________________________________________________________\n",
      "decoder_4_a (Conv2D)            (None, 18, 18, 256)  1769728     concat_4[0][0]                   \n",
      "__________________________________________________________________________________________________\n",
      "decoder_4_b (Conv2D)            (None, 18, 18, 256)  590080      decoder_4_a[0][0]                \n",
      "__________________________________________________________________________________________________\n",
      "upsample_3 (UpSampling2D)       (None, 36, 36, 256)  0           decoder_4_b[0][0]                \n",
      "__________________________________________________________________________________________________\n",
      "concat_3 (Concatenate)          (None, 36, 36, 384)  0           upsample_3[0][0]                 \n",
      "                                                                 encoder_3_b[0][0]                \n",
      "__________________________________________________________________________________________________\n",
      "decoder_3_a (Conv2D)            (None, 36, 36, 128)  442496      concat_3[0][0]                   \n",
      "__________________________________________________________________________________________________\n",
      "decoder_3_b (Conv2D)            (None, 36, 36, 128)  147584      decoder_3_a[0][0]                \n",
      "__________________________________________________________________________________________________\n",
      "upsample_2 (UpSampling2D)       (None, 72, 72, 128)  0           decoder_3_b[0][0]                \n",
      "__________________________________________________________________________________________________\n",
      "concat_2 (Concatenate)          (None, 72, 72, 192)  0           upsample_2[0][0]                 \n",
      "                                                                 encoder_2_b[0][0]                \n",
      "__________________________________________________________________________________________________\n",
      "decoder_2_a (Conv2D)            (None, 72, 72, 64)   110656      concat_2[0][0]                   \n",
      "__________________________________________________________________________________________________\n",
      "decoder_2_b (Conv2D)            (None, 72, 72, 64)   36928       decoder_2_a[0][0]                \n",
      "__________________________________________________________________________________________________\n",
      "upsample_1 (UpSampling2D)       (None, 144, 144, 64) 0           decoder_2_b[0][0]                \n",
      "__________________________________________________________________________________________________\n",
      "concat_1 (Concatenate)          (None, 144, 144, 96) 0           upsample_1[0][0]                 \n",
      "                                                                 encoder_1_b[0][0]                \n",
      "__________________________________________________________________________________________________\n",
      "decoder_1_a (Conv2D)            (None, 144, 144, 32) 27680       concat_1[0][0]                   \n",
      "__________________________________________________________________________________________________\n",
      "decoder_1_b (Conv2D)            (None, 144, 144, 32) 9248        decoder_1_a[0][0]                \n",
      "__________________________________________________________________________________________________\n",
      "output_layer (Conv2D)           (None, 144, 144, 1)  33          decoder_1_b[0][0]                \n",
      "==================================================================================================\n",
      "Total params: 11,387,425\n",
      "Trainable params: 11,387,425\n",
      "Non-trainable params: 0\n",
      "__________________________________________________________________________________________________\n",
      "None\n"
     ]
    }
   ],
   "source": [
    "print(\"-\" * 30)\n",
    "print(\"Constructing model...\")\n",
    "print(\"-\" * 30)\n",
    "spec = importlib.util.spec_from_file_location(MODEL_PATH, MODEL_PATH + \".py\")\n",
    "ModelLoader = importlib.util.module_from_spec(spec)\n",
    "spec.loader.exec_module(ModelLoader)\n",
    "model = ModelLoader.make_model()\n",
    "print(model.summary())"
   ]
  },
  {
   "cell_type": "code",
   "execution_count": 4,
   "metadata": {},
   "outputs": [
    {
     "name": "stdout",
     "output_type": "stream",
     "text": [
      "Model weights loaded successfully\n",
      "\n"
     ]
    }
   ],
   "source": [
    "model.load_weights(SAVE_PATH)\n",
    "print(\"Model weights loaded successfully\\n\")"
   ]
  },
  {
   "cell_type": "code",
   "execution_count": 5,
   "metadata": {},
   "outputs": [
    {
     "name": "stdout",
     "output_type": "stream",
     "text": [
      "First 200 test samples loaded\n",
      "\n"
     ]
    }
   ],
   "source": [
    "n_test = 200\n",
    "msks_test = np.load(SMALL_DATA_PATH + 'msks_test.npy')\n",
    "imgs_test = np.load(SMALL_DATA_PATH + 'imgs_test.npy')\n",
    "\n",
    "print(\"First \" + str(n_test) + \" test samples loaded\\n\")"
   ]
  },
  {
   "cell_type": "code",
   "execution_count": 6,
   "metadata": {},
   "outputs": [],
   "source": [
    "Xy_test = tf.data.Dataset.zip((tf.data.Dataset.from_tensor_slices(imgs_test),\n",
    "                                tf.data.Dataset.from_tensor_slices(msks_test))\n",
    "                             ).cache().batch(BATCH_SIZE).prefetch(8)"
   ]
  },
  {
   "cell_type": "code",
   "execution_count": 7,
   "metadata": {},
   "outputs": [],
   "source": [
    "prediction_size = list(msks_test.shape)\n",
    "prediction_size.insert(0, N_PREDICTIONS)\n",
    "prediction_test = np.zeros(prediction_size)"
   ]
  },
  {
   "cell_type": "code",
   "execution_count": null,
   "metadata": {},
   "outputs": [
    {
     "name": "stderr",
     "output_type": "stream",
     "text": [
      "\r",
      "  0%|          | 0/100 [00:00<?, ?it/s]"
     ]
    },
    {
     "name": "stdout",
     "output_type": "stream",
     "text": [
      "Getting Monte Carlo samples of test predictions...\n"
     ]
    }
   ],
   "source": [
    "print(\"Getting Monte Carlo samples of test predictions...\")\n",
    "for i in trange(N_PREDICTIONS):\n",
    "    prediction_test[i] = model.predict(Xy_test)"
   ]
  },
  {
   "cell_type": "code",
   "execution_count": null,
   "metadata": {
    "scrolled": true
   },
   "outputs": [],
   "source": [
    "for i in trange(0, 201, 20):\n",
    "    plt.figure(dpi=200)\n",
    "    plt.subplot(221)\n",
    "    plt.title('Test Data T2-FLAIR')\n",
    "    plt.imshow(imgs_test[i, :, :, 0], cmap='gray')\n",
    "\n",
    "    plt.subplot(222)\n",
    "    plt.title('Test Data T1')\n",
    "    plt.imshow(imgs_test[i, :, :, 1], cmap='gray')\n",
    "\n",
    "    plt.subplot(223)\n",
    "    plt.title('Test Data T1-Contrast')\n",
    "    plt.imshow(imgs_test[i, :, :, 2], cmap='gray')\n",
    "\n",
    "    plt.subplot(224)\n",
    "    plt.title('Test Data T2')\n",
    "    plt.imshow(imgs_test[i, :, :, 3], cmap='gray')\n",
    "    plt.tight_layout()\n",
    "    plt.savefig(IMAGE_PATH +  'input_images_'+str(i).zfill(4)+'.png')\n",
    "\n",
    "    plt.figure(dpi=200)\n",
    "\n",
    "    plt.subplot(221)\n",
    "    plt.title('\\nPredicted Label Mean')\n",
    "    plt.imshow(prediction_test.mean(0)[i, :, :, 0], interpolation='nearest')\n",
    "    plt.colorbar()\n",
    "    plt.clim(0, 1)\n",
    "\n",
    "    plt.subplot(222)\n",
    "    plt.title('\\nPredicted Label Stddev')\n",
    "    plt.imshow(prediction_test.std(0)[i, :, :, 0], interpolation='nearest')\n",
    "    plt.clim(0, 0.2)\n",
    "    plt.colorbar()\n",
    "\n",
    "    plt.subplot(223)\n",
    "    plt.title('True Label')\n",
    "    plt.imshow(msks_test[i, :, :, 0], interpolation='nearest')\n",
    "    plt.clim(0, 1)\n",
    "    plt.colorbar()\n",
    "    \n",
    "    plt.subplot(224)\n",
    "    plt.title('\\nTruth-Prediction Discrepency')\n",
    "    plt.imshow((msks_test[i, :, :, 0] - prediction_test.mean(0)[i, :, :, 0]), \n",
    "               interpolation='nearest')\n",
    "    plt.clim(-1, 1)\n",
    "    plt.colorbar()\n",
    "\n",
    "\n",
    "    plt.tight_layout()\n",
    "\n",
    "    plt.savefig(IMAGE_PATH + 'prediction_images_'+str(i).zfill(4)+'.png')\n",
    "\n",
    "\n",
    "    plt.figure(dpi=200)\n",
    "\n",
    "    plt.subplot(221)\n",
    "    plt.title('\\nPredicted Label 10th percentile')\n",
    "    plt.imshow(np.percentile(prediction_test[:, i, :, :, 0], 10, axis=0), interpolation='nearest')\n",
    "    plt.clim(0, 1)\n",
    "    plt.colorbar()\n",
    "\n",
    "    plt.subplot(222)\n",
    "    plt.title('\\nPredicted Label 50th percentile')\n",
    "    plt.imshow(np.percentile(prediction_test[:, i, :, :, 0], 50, axis=0), interpolation='nearest')\n",
    "    plt.clim(0, 1)\n",
    "    plt.colorbar()\n",
    "\n",
    "    plt.subplot(223)\n",
    "    plt.title('Predicted Label 90th percentile')\n",
    "    plt.imshow(np.percentile(prediction_test[:, i, :, :, 0], 90, axis=0), interpolation='nearest')\n",
    "    plt.clim(0, 1)\n",
    "    plt.colorbar()\n",
    "\n",
    "    plt.subplot(224)\n",
    "    plt.title('True Label')\n",
    "    plt.imshow(msks_test[i, :, :, 0], interpolation='nearest')\n",
    "    plt.clim(0, 1)\n",
    "    plt.colorbar()\n",
    "\n",
    "    plt.tight_layout()\n",
    "    plt.savefig(IMAGE_PATH + 'prediction_percentile_images_' + str(i).zfill(4)+'.png')"
   ]
  },
  {
   "cell_type": "code",
   "execution_count": null,
   "metadata": {},
   "outputs": [],
   "source": [
    "history = pickle.load(open(PICKLE_PATH, 'rb'))"
   ]
  },
  {
   "cell_type": "code",
   "execution_count": null,
   "metadata": {},
   "outputs": [],
   "source": [
    "plt.figure(dpi=400)\n",
    "plt.semilogy(history['loss'], label='training loss (ELBO)')\n",
    "plt.semilogy(history['val_loss'], label='testing loss')\n",
    "plt.legend()\n",
    "plt.savefig(IMAGE_PATH + 'training_history.png')"
   ]
  },
  {
   "cell_type": "code",
   "execution_count": null,
   "metadata": {},
   "outputs": [],
   "source": [
    "for layer in model.layers:\n",
    "    print(layer)\n",
    "    weights = layer.get_weights()\n",
    "    for w in weights:\n",
    "        print(w.shape)"
   ]
  },
  {
   "cell_type": "code",
   "execution_count": null,
   "metadata": {},
   "outputs": [],
   "source": []
  }
 ],
 "metadata": {
  "kernelspec": {
   "display_name": "Python [conda env:test-env] *",
   "language": "python",
   "name": "conda-env-test-env-py"
  },
  "language_info": {
   "codemirror_mode": {
    "name": "ipython",
    "version": 3
   },
   "file_extension": ".py",
   "mimetype": "text/x-python",
   "name": "python",
   "nbconvert_exporter": "python",
   "pygments_lexer": "ipython3",
   "version": "3.7.7"
  }
 },
 "nbformat": 4,
 "nbformat_minor": 4
}
